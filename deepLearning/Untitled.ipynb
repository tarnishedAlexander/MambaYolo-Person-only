{
 "cells": [
  {
   "cell_type": "code",
   "execution_count": 1,
   "id": "3a77e9ab-0aff-4e7f-92c4-bd3ef7426925",
   "metadata": {},
   "outputs": [],
   "source": [
    "import torch"
   ]
  },
  {
   "cell_type": "markdown",
   "id": "6973c106-15b8-4b76-a668-f9155df9df90",
   "metadata": {},
   "source": [
    "# Dimension"
   ]
  },
  {
   "cell_type": "code",
   "execution_count": 2,
   "id": "63bb98a0-8458-43cf-ae62-b1f78a61d94d",
   "metadata": {},
   "outputs": [],
   "source": [
    "oneD = torch.tensor([1,2,3])\n",
    "twoD = torch.tensor([[1,2,3], [4,5,6], [7,8,9]])"
   ]
  },
  {
   "cell_type": "code",
   "execution_count": 3,
   "id": "8dde1eae-446e-426e-9ef6-4891d8a3a781",
   "metadata": {},
   "outputs": [
    {
     "name": "stdout",
     "output_type": "stream",
     "text": [
      "This is one dimensional tensor: 2 \n",
      "This is two dimensional tensor: tensor([4, 5, 6])\n"
     ]
    }
   ],
   "source": [
    "print(f\"This is one dimensional tensor: {oneD[1]} \\nThis is two dimensional tensor: {twoD[1]}\")"
   ]
  },
  {
   "cell_type": "markdown",
   "id": "605e3602-d5ba-439b-a3d6-0423e0eb1aa7",
   "metadata": {},
   "source": [
    "# Data type"
   ]
  },
  {
   "cell_type": "code",
   "execution_count": 4,
   "id": "e5eaf0c9-d106-4cb0-9833-5b29940b7709",
   "metadata": {},
   "outputs": [
    {
     "name": "stderr",
     "output_type": "stream",
     "text": [
      "/tmp/ipykernel_77/3073883862.py:4: DeprecationWarning: an integer is required (got type float).  Implicit conversion to integers using __int__ is deprecated, and may be removed in a future version of Python.\n",
      "  cInt = torch.IntTensor([1.00,2.00,3.99]) # deprecated but works\n"
     ]
    },
    {
     "data": {
      "text/plain": [
       "(torch.float32, torch.float32, torch.int32)"
      ]
     },
     "execution_count": 4,
     "metadata": {},
     "output_type": "execute_result"
    }
   ],
   "source": [
    "a = torch.tensor([1.0,2.0,3.0]) # float\n",
    "#aInt = torch.tensor([1.0,2.0,3.0], dtype=torch.int32) # deprecated\n",
    "bFloat = torch.FloatTensor([1,2,3])\n",
    "cInt = torch.IntTensor([1.00,2.00,3.99]) # deprecated but works \n",
    "\n",
    "a.dtype, bFloat.dtype, cInt.dtype"
   ]
  },
  {
   "cell_type": "code",
   "execution_count": 5,
   "id": "6f2e5fb8-3720-497e-bd86-5b58b01b5dbc",
   "metadata": {},
   "outputs": [
    {
     "data": {
      "text/plain": [
       "(tensor(2.), tensor(2, dtype=torch.int32))"
      ]
     },
     "execution_count": 5,
     "metadata": {},
     "output_type": "execute_result"
    }
   ],
   "source": [
    "bFloat[1], cInt[1]"
   ]
  },
  {
   "cell_type": "code",
   "execution_count": 6,
   "id": "7e40e170-ff5a-4dd7-83ba-445160acd415",
   "metadata": {},
   "outputs": [
    {
     "data": {
      "text/plain": [
       "('torch.FloatTensor', tensor([1., 2., 3.]))"
      ]
     },
     "execution_count": 6,
     "metadata": {},
     "output_type": "execute_result"
    }
   ],
   "source": [
    "bFloat.type(), bFloat"
   ]
  },
  {
   "cell_type": "code",
   "execution_count": null,
   "id": "94eef842-b40e-408f-b148-05cb8c8941a3",
   "metadata": {},
   "outputs": [],
   "source": []
  },
  {
   "cell_type": "code",
   "execution_count": 7,
   "id": "8f8f597c-48a4-4a2f-b5f0-f6f342b6e277",
   "metadata": {},
   "outputs": [
    {
     "data": {
      "text/plain": [
       "(torch.int64, torch.float32)"
      ]
     },
     "execution_count": 7,
     "metadata": {},
     "output_type": "execute_result"
    }
   ],
   "source": [
    "array = torch.tensor([123,456,789])\n",
    "\n",
    "arrayFloat = array.type(torch.FloatTensor)\n",
    "\n",
    "array.dtype, arrayFloat.dtype\n"
   ]
  },
  {
   "cell_type": "code",
   "execution_count": null,
   "id": "cecb4519-9c88-472a-9ebc-68817d4aca73",
   "metadata": {},
   "outputs": [],
   "source": []
  },
  {
   "cell_type": "code",
   "execution_count": 8,
   "id": "5e2b855e-14b6-44a9-a288-66d7f2198ec1",
   "metadata": {},
   "outputs": [
    {
     "data": {
      "text/plain": [
       "(torch.Size([5]), 1)"
      ]
     },
     "execution_count": 8,
     "metadata": {},
     "output_type": "execute_result"
    }
   ],
   "source": [
    "a = torch.Tensor([0,1,2,3,4])\n",
    "a.size(), a.ndimension() # (torch size, torch rank)"
   ]
  },
  {
   "cell_type": "markdown",
   "id": "0d1866a4-2a05-4821-a6a9-cf5baf1b3b9f",
   "metadata": {},
   "source": [
    "### Convert a 1D tensor into 2D tensor"
   ]
  },
  {
   "cell_type": "code",
   "execution_count": 9,
   "id": "56db0f54-012e-4dc3-ae9b-7134b056f905",
   "metadata": {},
   "outputs": [],
   "source": [
    "oneD = torch.Tensor([1,2,3,4,5])\n",
    "\n",
    "# view method\n"
   ]
  },
  {
   "cell_type": "code",
   "execution_count": 10,
   "id": "955f70d0-7b38-425f-b2dc-f06ff6cd419e",
   "metadata": {},
   "outputs": [
    {
     "data": {
      "text/plain": [
       "tensor([[1.],\n",
       "        [2.],\n",
       "        [3.],\n",
       "        [4.],\n",
       "        [5.]])"
      ]
     },
     "execution_count": 10,
     "metadata": {},
     "output_type": "execute_result"
    }
   ],
   "source": [
    "columnD = oneD.view(-1,1) # (numberofRows, )\n",
    "columnD"
   ]
  },
  {
   "cell_type": "code",
   "execution_count": 11,
   "id": "ec96a300-b3f5-469d-b3d1-a8ec85a2224f",
   "metadata": {},
   "outputs": [
    {
     "data": {
      "text/plain": [
       "(tensor([[1.],\n",
       "         [2.],\n",
       "         [3.],\n",
       "         [4.],\n",
       "         [5.]]),\n",
       " tensor([[1.],\n",
       "         [2.],\n",
       "         [3.],\n",
       "         [4.],\n",
       "         [5.]]))"
      ]
     },
     "execution_count": 11,
     "metadata": {},
     "output_type": "execute_result"
    }
   ],
   "source": [
    "twoDone = oneD.view(5,1)\n",
    "twoDtwo = oneD.view(-1,1)\n",
    "\n",
    "# both are the same\n",
    "twoDone, twoDtwo"
   ]
  },
  {
   "cell_type": "code",
   "execution_count": null,
   "id": "134c8825-21c5-40bf-8f56-b3f58ccf7425",
   "metadata": {},
   "outputs": [],
   "source": []
  },
  {
   "cell_type": "code",
   "execution_count": null,
   "id": "9df88fc8-af6e-4b56-96c0-d6a4b42fd53b",
   "metadata": {},
   "outputs": [],
   "source": []
  },
  {
   "cell_type": "markdown",
   "id": "83a7934e-6ab1-4490-b892-f7e05adf4da1",
   "metadata": {},
   "source": [
    "### the data type that is stored in the tensor"
   ]
  },
  {
   "cell_type": "code",
   "execution_count": 12,
   "id": "1734a608-5d7d-4b2e-aa09-c1c1474d1d4f",
   "metadata": {},
   "outputs": [
    {
     "data": {
      "text/plain": [
       "(torch.float32, torch.int64)"
      ]
     },
     "execution_count": 12,
     "metadata": {},
     "output_type": "execute_result"
    }
   ],
   "source": [
    "oneD.dtype,twoD.dtype"
   ]
  },
  {
   "cell_type": "code",
   "execution_count": 13,
   "id": "b1388092-9da9-4b54-be7d-37e869850a41",
   "metadata": {},
   "outputs": [
    {
     "data": {
      "text/plain": [
       "(torch.float32, tensor([0., 1., 2., 3., 4.]))"
      ]
     },
     "execution_count": 13,
     "metadata": {},
     "output_type": "execute_result"
    }
   ],
   "source": [
    "a.dtype, a"
   ]
  },
  {
   "cell_type": "markdown",
   "id": "15550498-7473-4ddd-b209-880c81d1d02b",
   "metadata": {},
   "source": [
    "### the tensor type"
   ]
  },
  {
   "cell_type": "code",
   "execution_count": 14,
   "id": "daaeaec1-f258-4688-8032-d3644932d294",
   "metadata": {},
   "outputs": [
    {
     "data": {
      "text/plain": [
       "('torch.FloatTensor', 'torch.LongTensor')"
      ]
     },
     "execution_count": 14,
     "metadata": {},
     "output_type": "execute_result"
    }
   ],
   "source": [
    "oneD.type(), twoD.type()"
   ]
  },
  {
   "cell_type": "code",
   "execution_count": null,
   "id": "348d1413-4491-4ac8-a39f-3ea9fe00b6bd",
   "metadata": {},
   "outputs": [],
   "source": []
  },
  {
   "cell_type": "markdown",
   "id": "8b0f1b15-e9d7-4132-8263-c846c8579e06",
   "metadata": {},
   "source": [
    "## From torch to numpy arrays"
   ]
  },
  {
   "cell_type": "code",
   "execution_count": 15,
   "id": "d112862b-d4de-4261-aa5e-2d4d643a29c6",
   "metadata": {},
   "outputs": [],
   "source": [
    "import numpy as np\n",
    "import torch"
   ]
  },
  {
   "cell_type": "code",
   "execution_count": 16,
   "id": "040f4921-c4ed-40ff-a422-882f5e4b3034",
   "metadata": {},
   "outputs": [
    {
     "data": {
      "text/plain": [
       "(tensor([0., 1., 2., 3., 4.], dtype=torch.float64),\n",
       " array([0., 1., 2., 3., 4.]))"
      ]
     },
     "execution_count": 16,
     "metadata": {},
     "output_type": "execute_result"
    }
   ],
   "source": [
    "## From numpy to torch tensor\n",
    "\n",
    "numpy_array = np.array([0.0,1.0,2.0,3.0,4.0])\n",
    "torch_tensor = torch.from_numpy(numpy_array)\n",
    "torch_tensor, numpy_array"
   ]
  },
  {
   "cell_type": "code",
   "execution_count": 17,
   "id": "771af415-8afc-4e5b-9abc-ea167c89b234",
   "metadata": {},
   "outputs": [
    {
     "data": {
      "text/plain": [
       "array([0., 1., 2., 3., 4.])"
      ]
     },
     "execution_count": 17,
     "metadata": {},
     "output_type": "execute_result"
    }
   ],
   "source": [
    "## From torch tensor to numpy\n",
    "\n",
    "back_to_numpy = torch_tensor.numpy()\n",
    "\n",
    "back_to_numpy"
   ]
  },
  {
   "cell_type": "markdown",
   "id": "217f4be2-b592-4813-aad1-8aa2d2082574",
   "metadata": {},
   "source": [
    "## From pandas to torch and viceversa"
   ]
  },
  {
   "cell_type": "code",
   "execution_count": 18,
   "id": "c57ebd8d-9852-46a7-8706-54c06f442047",
   "metadata": {},
   "outputs": [],
   "source": [
    "import pandas as pd"
   ]
  },
  {
   "cell_type": "code",
   "execution_count": 19,
   "id": "2de812cf-b9b2-41e7-8d84-814ed0fa42eb",
   "metadata": {},
   "outputs": [
    {
     "data": {
      "text/plain": [
       "(0     0.1\n",
       " 1     0.2\n",
       " 2     0.3\n",
       " 3    10.1\n",
       " dtype: float64,\n",
       " tensor([ 0.1000,  0.2000,  0.3000, 10.1000], dtype=torch.float64))"
      ]
     },
     "execution_count": 19,
     "metadata": {},
     "output_type": "execute_result"
    }
   ],
   "source": [
    "panda_series = pd.Series([0.1, 0.2, 0.3, 10.1])\n",
    "\n",
    "pandas_to_torch = torch.from_numpy(panda_series.values)\n",
    "\n",
    "panda_series, pandas_to_torch"
   ]
  },
  {
   "cell_type": "markdown",
   "id": "b8f001b1-beed-4423-9c3d-39738fcfc128",
   "metadata": {},
   "source": [
    "## From tensor to list"
   ]
  },
  {
   "cell_type": "code",
   "execution_count": 20,
   "id": "57f06179-8fd4-4547-9811-54fb2b0370ae",
   "metadata": {},
   "outputs": [
    {
     "data": {
      "text/plain": [
       "(tensor([1, 2, 3, 4]), [1, 2, 3, 4])"
      ]
     },
     "execution_count": 20,
     "metadata": {},
     "output_type": "execute_result"
    }
   ],
   "source": [
    "this_tensor = torch.tensor([1,2,3,4])\n",
    "torch_to_list = this_tensor.tolist()\n",
    "this_tensor, torch_to_list"
   ]
  },
  {
   "cell_type": "markdown",
   "id": "5b4f9d75-021c-4c58-8973-e910bd2bd6be",
   "metadata": {},
   "source": [
    "## From tensor's values to number"
   ]
  },
  {
   "cell_type": "code",
   "execution_count": 21,
   "id": "357a5031-4d5f-440f-ae11-04fb4fbde7fc",
   "metadata": {},
   "outputs": [
    {
     "data": {
      "text/plain": [
       "(tensor(24), 24)"
      ]
     },
     "execution_count": 21,
     "metadata": {},
     "output_type": "execute_result"
    }
   ],
   "source": [
    "new_tensor = torch.tensor([5,24,5,6])\n",
    "\n",
    "new_tensor[1], new_tensor[1].item()"
   ]
  },
  {
   "cell_type": "markdown",
   "id": "508e9c47-df1b-4296-a8aa-98d5f57b9922",
   "metadata": {},
   "source": [
    "# Indexing and slicing"
   ]
  },
  {
   "cell_type": "code",
   "execution_count": 22,
   "id": "992b9d99-abb2-4ce3-8b4f-0b48a4057cb0",
   "metadata": {},
   "outputs": [
    {
     "data": {
      "text/plain": [
       "tensor([20,  1, 23,  4, 21])"
      ]
     },
     "execution_count": 22,
     "metadata": {},
     "output_type": "execute_result"
    }
   ],
   "source": [
    "c = torch.tensor([20,1,23,4,21])\n",
    "c"
   ]
  },
  {
   "cell_type": "code",
   "execution_count": 23,
   "id": "d3c97aa9-bbbc-4287-b695-49c4144bd554",
   "metadata": {},
   "outputs": [
    {
     "data": {
      "text/plain": [
       "tensor([10,  1, 23,  4, 21])"
      ]
     },
     "execution_count": 23,
     "metadata": {},
     "output_type": "execute_result"
    }
   ],
   "source": [
    "# We can Change the values of the tensor like lists\n",
    "\n",
    "c[0] = 10\n",
    "c"
   ]
  },
  {
   "cell_type": "code",
   "execution_count": 24,
   "id": "d90e5668-c24a-457d-897a-3c2fdf8b8796",
   "metadata": {},
   "outputs": [
    {
     "data": {
      "text/plain": [
       "tensor([ 1, 23,  4])"
      ]
     },
     "execution_count": 24,
     "metadata": {},
     "output_type": "execute_result"
    }
   ],
   "source": [
    "d = c[1:4] # take the second element until the fouth element and save it into d\n",
    "d"
   ]
  },
  {
   "cell_type": "code",
   "execution_count": 25,
   "id": "92b5eb6f-cb80-48b4-a131-1861f2de12ee",
   "metadata": {},
   "outputs": [
    {
     "data": {
      "text/plain": [
       "tensor([ 10,   1,  23, 300, 400])"
      ]
     },
     "execution_count": 25,
     "metadata": {},
     "output_type": "execute_result"
    }
   ],
   "source": [
    "c[3:] = torch.tensor([300.0, 400.0]) # from the fouth element until the last element\n",
    "c"
   ]
  },
  {
   "cell_type": "markdown",
   "id": "382134ac-3a82-4d27-b370-e3f9e9fa4f47",
   "metadata": {},
   "source": [
    "# Operation"
   ]
  },
  {
   "cell_type": "markdown",
   "id": "4d60a843-6d8d-412f-862d-8b8dc78280ba",
   "metadata": {},
   "source": [
    "\n",
    "### vector addition and substraction"
   ]
  },
  {
   "cell_type": "markdown",
   "id": "ea3a34ef-3f6c-416e-803a-65dd7014c8ee",
   "metadata": {},
   "source": [
    "$$u = \\begin{pmatrix} 1 \\\\ 0 \\end{pmatrix},   v = \\begin{pmatrix} 0 \\\\ 1 \\end{pmatrix}$$\n",
    "\n",
    "$$ z = u+v = \\begin{pmatrix} 1 + 0 \\\\ 0 +1 \\end{pmatrix}$$\n",
    "\n",
    "$$ z = \\begin{pmatrix} 1 \\\\ 1 \\end{pmatrix} $$\n",
    "\n",
    "\n"
   ]
  },
  {
   "cell_type": "code",
   "execution_count": 26,
   "id": "1f48edc2-e7bc-4fbb-a513-6e1870841e0f",
   "metadata": {},
   "outputs": [
    {
     "data": {
      "text/plain": [
       "tensor([1., 1.])"
      ]
     },
     "execution_count": 26,
     "metadata": {},
     "output_type": "execute_result"
    }
   ],
   "source": [
    "u = torch.tensor([1.0,0.0])\n",
    "v = torch.tensor([0.0,1.0])\n",
    "\n",
    "z = u + v\n",
    "z"
   ]
  },
  {
   "cell_type": "markdown",
   "id": "788828f3-30f8-4b1b-bbb5-4df3b5a32656",
   "metadata": {},
   "source": [
    "### vector multiplication with a scalar"
   ]
  },
  {
   "cell_type": "markdown",
   "id": "9dac240e-dafc-49d9-90fc-af04981fbc2b",
   "metadata": {},
   "source": [
    "$$y = \\begin{pmatrix} 1 \\\\ 2 \\end{pmatrix} $$\n",
    "\n",
    "\n",
    "$$z = 2y = \\begin{pmatrix} 2(1) \\\\ 2(2) \\end{pmatrix} $$\n",
    "\n",
    "$$z = \\begin{pmatrix} 2 \\\\ 4 \\end{pmatrix} $$"
   ]
  },
  {
   "cell_type": "code",
   "execution_count": 27,
   "id": "6f16a44d-df34-4cdd-913a-9682f1dc33c8",
   "metadata": {},
   "outputs": [
    {
     "data": {
      "text/plain": [
       "tensor([2., 4.])"
      ]
     },
     "execution_count": 27,
     "metadata": {},
     "output_type": "execute_result"
    }
   ],
   "source": [
    "y = torch.tensor([1.0,2.0])\n",
    "z = 2 * y\n",
    "z"
   ]
  },
  {
   "cell_type": "markdown",
   "id": "376e0143-2544-4e16-b250-c6193d006361",
   "metadata": {},
   "source": [
    "### Product of two tensors"
   ]
  },
  {
   "cell_type": "markdown",
   "id": "482e7efc-db7c-44fd-ad61-8b7fba5d2760",
   "metadata": {},
   "source": [
    "$$ u = \\begin{pmatrix} 1 \\\\ 2 \\end{pmatrix}, v = \\begin{pmatrix} 3 \\\\ 2 \\end{pmatrix} $$\n",
    "\n",
    "$$z = u \\cdot v = \\begin{pmatrix} 1*3 \\\\ 2*2 \\end{pmatrix}$$\n",
    "\n",
    "$$ z = \\begin{pmatrix} 3 \\\\ 4 \\end{pmatrix} $$"
   ]
  },
  {
   "cell_type": "code",
   "execution_count": 28,
   "id": "191212fb-a4eb-4c87-9642-3fd7d4a97b3d",
   "metadata": {},
   "outputs": [
    {
     "data": {
      "text/plain": [
       "tensor([3, 4])"
      ]
     },
     "execution_count": 28,
     "metadata": {},
     "output_type": "execute_result"
    }
   ],
   "source": [
    "u = torch.tensor([1,2]) \n",
    "v = torch.tensor([3,2])\n",
    "\n",
    "z = u * v\n",
    "z"
   ]
  },
  {
   "cell_type": "markdown",
   "id": "6385f350-7bd4-4416-a1f3-acb1ccad5b05",
   "metadata": {},
   "source": [
    "## Dot product"
   ]
  },
  {
   "cell_type": "markdown",
   "id": "e476a1f5-84b7-4cb1-8ead-1d513d645eae",
   "metadata": {},
   "source": [
    "$$ u = \\begin{pmatrix} 1 \\\\ 2 \\end{pmatrix}, v = \\begin{pmatrix} 3 \\\\ 1 \\end{pmatrix} $$\n",
    "\n",
    "$$ u^Tv = 1 * 3 + 2 * 1 = 5$$"
   ]
  },
  {
   "cell_type": "code",
   "execution_count": 29,
   "id": "16375864-0c0f-47de-9e11-53a68c2cd41e",
   "metadata": {},
   "outputs": [
    {
     "data": {
      "text/plain": [
       "tensor(5)"
      ]
     },
     "execution_count": 29,
     "metadata": {},
     "output_type": "execute_result"
    }
   ],
   "source": [
    "u = torch.tensor([1,2]) \n",
    "v = torch.tensor([3,1])\n",
    "\n",
    "result = torch.dot(u,v)\n",
    "result"
   ]
  },
  {
   "cell_type": "markdown",
   "id": "0f227fb8-9c29-4f2c-8647-3aca02bda11a",
   "metadata": {},
   "source": [
    "## Adding constant to a tensor"
   ]
  },
  {
   "cell_type": "code",
   "execution_count": 30,
   "id": "e4dac3e1-7ef6-4a02-a39e-0c69989d8055",
   "metadata": {},
   "outputs": [
    {
     "data": {
      "text/plain": [
       "tensor([2, 3, 4, 0])"
      ]
     },
     "execution_count": 30,
     "metadata": {},
     "output_type": "execute_result"
    }
   ],
   "source": [
    "u = torch.tensor([1,2,3,-1])\n",
    "z = u +1\n",
    "z"
   ]
  },
  {
   "cell_type": "markdown",
   "id": "766fe2b2-72de-43f6-864e-839bec15955f",
   "metadata": {},
   "source": [
    "## Functions"
   ]
  },
  {
   "cell_type": "code",
   "execution_count": 31,
   "id": "a9cb1c5e-ee9b-43ee-8b84-ac2922f8c882",
   "metadata": {},
   "outputs": [
    {
     "data": {
      "text/plain": [
       "(tensor(0.), tensor(2.))"
      ]
     },
     "execution_count": 31,
     "metadata": {},
     "output_type": "execute_result"
    }
   ],
   "source": [
    "# mean\n",
    "a = torch.FloatTensor([1,-1,1,-1])\n",
    "b = torch.FloatTensor([2,2,2,2])\n",
    "mean_a = a.mean()\n",
    "mean_b = b.mean()\n",
    "mean_a, mean_b"
   ]
  },
  {
   "cell_type": "code",
   "execution_count": 32,
   "id": "62c5bc9d-2bb4-4132-9074-494c4761699c",
   "metadata": {},
   "outputs": [
    {
     "data": {
      "text/plain": [
       "tensor(6, dtype=torch.int32)"
      ]
     },
     "execution_count": 32,
     "metadata": {},
     "output_type": "execute_result"
    }
   ],
   "source": [
    "# max value\n",
    "\n",
    "bb = torch.IntTensor([1,2,3,4,6]) # int is only entire value and needs to be positive\n",
    "max_bb = bb.max()\n",
    "max_bb"
   ]
  },
  {
   "cell_type": "markdown",
   "id": "885504a3-f8b3-434a-9b40-c6624ccea436",
   "metadata": {},
   "source": [
    "### Universal functions"
   ]
  },
  {
   "cell_type": "markdown",
   "id": "6abc7dad-00e0-4c90-969a-830136fb544a",
   "metadata": {},
   "source": [
    "$$ x = [0, \\frac{\\pi}{2}, \\pi] $$\n",
    "\n",
    "$$ y = \\sin(x)$$\n",
    "$$ y = [\\sin(0), \\sin(\\frac{\\pi}{2}), \\sin(\\pi)]$$\n",
    "\n",
    "$$ y = [0,1,0] $$\n",
    "\n"
   ]
  },
  {
   "cell_type": "code",
   "execution_count": 33,
   "id": "d304e58b-441e-4527-9242-cecd9935488a",
   "metadata": {},
   "outputs": [
    {
     "data": {
      "text/plain": [
       "tensor([ 0.0000e+00,  1.0000e+00, -8.7423e-08])"
      ]
     },
     "execution_count": 33,
     "metadata": {},
     "output_type": "execute_result"
    }
   ],
   "source": [
    "x = torch.FloatTensor([0, np.pi/2, np.pi])\n",
    "y = torch.sin(x)\n",
    "\n",
    "y"
   ]
  },
  {
   "cell_type": "markdown",
   "id": "8ff327ff-fd64-4388-813e-8cae36688e31",
   "metadata": {},
   "source": [
    "### Linspace"
   ]
  },
  {
   "cell_type": "markdown",
   "id": "d398d9c1-adac-4ef3-a6cc-0f553775ad05",
   "metadata": {},
   "source": [
    "linspace(-2, 2, steps=5)\n",
    "\n",
    "$$[-2 -1 0 1 2 ]$$\n",
    "\n",
    "where $(-2, 2)$ is the distance or the shape of the array we wanna implement a solution, where $-2$ is the min and $2$ is the max\n",
    "\n",
    "and the $steps=5$ means how many grids we are gonna have in the matrix"
   ]
  },
  {
   "cell_type": "code",
   "execution_count": 34,
   "id": "b615a9eb-5ac3-49db-b9c2-e29650f75eba",
   "metadata": {},
   "outputs": [
    {
     "data": {
      "text/plain": [
       "tensor([ 0.0000e+00,  6.3424e-02,  1.2659e-01,  1.8925e-01,  2.5115e-01,\n",
       "         3.1203e-01,  3.7166e-01,  4.2979e-01,  4.8620e-01,  5.4064e-01,\n",
       "         5.9291e-01,  6.4279e-01,  6.9008e-01,  7.3459e-01,  7.7615e-01,\n",
       "         8.1458e-01,  8.4973e-01,  8.8145e-01,  9.0963e-01,  9.3415e-01,\n",
       "         9.5490e-01,  9.7181e-01,  9.8481e-01,  9.9384e-01,  9.9887e-01,\n",
       "         9.9987e-01,  9.9685e-01,  9.8982e-01,  9.7880e-01,  9.6384e-01,\n",
       "         9.4500e-01,  9.2235e-01,  8.9599e-01,  8.6603e-01,  8.3257e-01,\n",
       "         7.9576e-01,  7.5575e-01,  7.1269e-01,  6.6677e-01,  6.1816e-01,\n",
       "         5.6706e-01,  5.1368e-01,  4.5823e-01,  4.0093e-01,  3.4202e-01,\n",
       "         2.8173e-01,  2.2031e-01,  1.5800e-01,  9.5056e-02,  3.1728e-02,\n",
       "        -3.1728e-02, -9.5056e-02, -1.5800e-01, -2.2031e-01, -2.8173e-01,\n",
       "        -3.4202e-01, -4.0093e-01, -4.5823e-01, -5.1368e-01, -5.6706e-01,\n",
       "        -6.1816e-01, -6.6677e-01, -7.1269e-01, -7.5575e-01, -7.9576e-01,\n",
       "        -8.3257e-01, -8.6603e-01, -8.9599e-01, -9.2235e-01, -9.4500e-01,\n",
       "        -9.6384e-01, -9.7880e-01, -9.8982e-01, -9.9685e-01, -9.9987e-01,\n",
       "        -9.9887e-01, -9.9384e-01, -9.8481e-01, -9.7181e-01, -9.5490e-01,\n",
       "        -9.3415e-01, -9.0963e-01, -8.8145e-01, -8.4973e-01, -8.1458e-01,\n",
       "        -7.7615e-01, -7.3459e-01, -6.9008e-01, -6.4279e-01, -5.9291e-01,\n",
       "        -5.4064e-01, -4.8620e-01, -4.2979e-01, -3.7166e-01, -3.1203e-01,\n",
       "        -2.5115e-01, -1.8925e-01, -1.2659e-01, -6.3424e-02,  1.7485e-07])"
      ]
     },
     "execution_count": 34,
     "metadata": {},
     "output_type": "execute_result"
    }
   ],
   "source": [
    "x = torch.linspace(0, 2*np.pi, 100) # (0, 2\\pi) 100grids [0, 0,001, 0,002, ..., 2pi] \n",
    "y = torch.sin(x)\n",
    "\n",
    "y"
   ]
  },
  {
   "cell_type": "code",
   "execution_count": 35,
   "id": "3c3738cf-caa7-43b8-865c-befcb59247a7",
   "metadata": {},
   "outputs": [
    {
     "data": {
      "text/plain": [
       "[<matplotlib.lines.Line2D at 0x7f64e21a66a0>]"
      ]
     },
     "execution_count": 35,
     "metadata": {},
     "output_type": "execute_result"
    },
    {
     "data": {
      "image/png": "[encoded data removed]",
      "text/plain": [
       "<Figure size 640x480 with 1 Axes>"
      ]
     },
     "metadata": {},
     "output_type": "display_data"
    }
   ],
   "source": [
    "import matplotlib.pyplot as plt\n",
    "# display the plot\n",
    "%matplotlib inline \n",
    "\n",
    "plt.plot(x.numpy(), y.numpy()) # cast from tensor to numpy array"
   ]
  },
  {
   "cell_type": "code",
   "execution_count": null,
   "id": "43d0577f-8d0a-47db-a169-92f56dde5590",
   "metadata": {},
   "outputs": [],
   "source": []
  },
  {
   "cell_type": "code",
   "execution_count": null,
   "id": "f805c29d-f982-4957-b632-a290004e284c",
   "metadata": {},
   "outputs": [],
   "source": []
  },
  {
   "cell_type": "code",
   "execution_count": null,
   "id": "e8a6e0f3-3072-4cf2-b6ad-94b78e5e46b3",
   "metadata": {},
   "outputs": [],
   "source": []
  },
  {
   "cell_type": "code",
   "execution_count": null,
   "id": "d1dc704a-b295-4f66-ae3a-6e76a3e9708b",
   "metadata": {},
   "outputs": [],
   "source": []
  },
  {
   "cell_type": "markdown",
   "id": "af7b7dc6-405e-47e2-b83d-ac0fea992d7f",
   "metadata": {},
   "source": [
    "# Two-Dimensional Tensors"
   ]
  },
  {
   "cell_type": "code",
   "execution_count": 36,
   "id": "5511ab6e-a937-49b3-81d5-b9ca0fb59dc6",
   "metadata": {},
   "outputs": [
    {
     "data": {
      "text/plain": [
       "(tensor([[1., 0., 0.],\n",
       "         [0., 1., 0.],\n",
       "         [0., 0., 1.]]),\n",
       " 2,\n",
       " torch.Size([3, 3]))"
      ]
     },
     "execution_count": 36,
     "metadata": {},
     "output_type": "execute_result"
    }
   ],
   "source": [
    "a = [[1, 0, 0], [0, 1, 0], [0, 0, 1]]\n",
    "A = torch.tensor(a, dtype=torch.float) # ndimension is the number of axes\n",
    "A, A.ndimension(), A.shape # A.shape = (rows, columns) in a rectangular tensor"
   ]
  },
  {
   "cell_type": "markdown",
   "id": "a38876cc-4469-431f-8b87-41f3c9f4b231",
   "metadata": {},
   "source": [
    "$$b = \\begin{pmatrix} 1 & 2 \\\\ 3 & 4 \\end{pmatrix}, \\begin{pmatrix} 5 & 6 \\\\ 7 & 8 \\end{pmatrix} $$"
   ]
  },
  {
   "cell_type": "code",
   "execution_count": 37,
   "id": "b0c98dac-79b1-4dae-a533-7345a1e87d14",
   "metadata": {},
   "outputs": [
    {
     "data": {
      "text/plain": [
       "3"
      ]
     },
     "execution_count": 37,
     "metadata": {},
     "output_type": "execute_result"
    }
   ],
   "source": [
    "b = [[[1, 2], \n",
    "      [3, 4]], \n",
    "     [[5, 6], \n",
    "      [7, 8]]] # 3 = (2*2), (2*2)\n",
    "B = torch.tensor(b, dtype=torch.float)\n",
    "B.ndimension()  # this is 3 because (#matrices, #rows, # columns) = 3\n"
   ]
  },
  {
   "cell_type": "code",
   "execution_count": 38,
   "id": "cd62592a-e532-4698-bda4-51d7b2ad0469",
   "metadata": {},
   "outputs": [
    {
     "name": "stdout",
     "output_type": "stream",
     "text": [
      "tensor([[[[ 1.,  2.],\n",
      "          [ 3.,  4.]],\n",
      "\n",
      "         [[ 5.,  6.],\n",
      "          [ 7.,  8.]]],\n",
      "\n",
      "\n",
      "        [[[ 9., 10.],\n",
      "          [11., 12.]],\n",
      "\n",
      "         [[13., 14.],\n",
      "          [15., 16.]]]]) 4\n"
     ]
    }
   ],
   "source": [
    "b = [[[[1, 2], [3, 4]], [[5, 6], [7, 8]]],\n",
    "     [[[9, 10], [11, 12]], [[13, 14], [15, 16]]]]\n",
    "B = torch.tensor(b, dtype=torch.float)\n",
    "print(B, B.ndimension()) # (groups, matrices, rows, columns)"
   ]
  },
  {
   "cell_type": "code",
   "execution_count": 39,
   "id": "f91e294d-aa31-4750-b47d-48d412a29191",
   "metadata": {},
   "outputs": [
    {
     "data": {
      "text/plain": [
       "(torch.Size([2, 2, 2, 2]), torch.Size([2, 2, 2, 2]))"
      ]
     },
     "execution_count": 39,
     "metadata": {},
     "output_type": "execute_result"
    }
   ],
   "source": [
    "B.shape, B.size()"
   ]
  },
  {
   "cell_type": "code",
   "execution_count": 40,
   "id": "15e47ae0-fd65-453e-a6a6-dad97f53b2e4",
   "metadata": {},
   "outputs": [
    {
     "data": {
      "text/plain": [
       "16"
      ]
     },
     "execution_count": 40,
     "metadata": {},
     "output_type": "execute_result"
    }
   ],
   "source": [
    "B.numel() # 2^4"
   ]
  },
  {
   "cell_type": "markdown",
   "id": "45c17d9d-1d8f-4fef-a748-bd154db786f5",
   "metadata": {},
   "source": [
    "## Indexing and slicing in 2d"
   ]
  },
  {
   "cell_type": "markdown",
   "id": "937816c4-37e9-4b26-b2e3-92e792d5911b",
   "metadata": {},
   "source": [
    "\\begin{pmatrix} A[0,0] & A[0,1] & A[0,2] \\\\ A[1,0] & A[1,1] & A[1,2] \\\\ A[2,0] & A[2,1] & A[2,2] \\end{pmatrix}"
   ]
  },
  {
   "cell_type": "markdown",
   "id": "5ed2efac-c15f-4e50-bc4e-0c672de1f6fd",
   "metadata": {},
   "source": [
    "### Sumation\n"
   ]
  },
  {
   "cell_type": "markdown",
   "id": "10a5ccc9-76ba-415c-a5ce-f26f1522fa31",
   "metadata": {},
   "source": [
    "$$X = \\begin{pmatrix} 1 & 0 \\\\ 0 & 1 \\end{pmatrix}, Y = \\begin{pmatrix} 2 & 1 \\\\ 1 & 2  \\end{pmatrix}$$\n",
    "\n",
    "$$Z = X + Y $$\n",
    "\n",
    "$$Z = \\begin{pmatrix} 3 & 1 \\\\ 1 & 3 \\end{pmatrix}$$"
   ]
  },
  {
   "cell_type": "code",
   "execution_count": 41,
   "id": "4b67e4e0-4e2e-46dc-ae0a-197a244848fe",
   "metadata": {},
   "outputs": [
    {
     "data": {
      "text/plain": [
       "tensor([[3, 1],\n",
       "        [1, 3]])"
      ]
     },
     "execution_count": 41,
     "metadata": {},
     "output_type": "execute_result"
    }
   ],
   "source": [
    "x = torch.tensor([[1,0],[0,1]])\n",
    "y = torch.tensor([[2,1], [1,2]])\n",
    "\n",
    "z = x + y\n",
    "z"
   ]
  },
  {
   "cell_type": "markdown",
   "id": "7f4874a5-4295-4a0d-9471-2a646f7eab91",
   "metadata": {},
   "source": [
    "### Scalar operation"
   ]
  },
  {
   "cell_type": "markdown",
   "id": "e11e6877-0ad4-4131-af7d-229c56394a24",
   "metadata": {},
   "source": [
    "$$ y = \\begin{pmatrix} 2 & 1 \\\\ 1 & 2 \\end{pmatrix}$$\n",
    "\n",
    "$$Z = 2 * y$$\n",
    "\n",
    "$$z = \\begin{pmatrix} 4 & 2 \\\\ 2 & 4 \\end{pmatrix}$$"
   ]
  },
  {
   "cell_type": "code",
   "execution_count": 42,
   "id": "794742d0-5443-4709-a95e-d532a9d4966d",
   "metadata": {},
   "outputs": [
    {
     "data": {
      "text/plain": [
       "tensor([[4, 2],\n",
       "        [2, 4]])"
      ]
     },
     "execution_count": 42,
     "metadata": {},
     "output_type": "execute_result"
    }
   ],
   "source": [
    "y = torch.tensor([[2,1], [1,2]])\n",
    "z = 2 * y\n",
    "z"
   ]
  },
  {
   "cell_type": "markdown",
   "id": "c539777b-0ac7-42fc-841c-2932b7828816",
   "metadata": {},
   "source": [
    "### Multiplication of 2 tensors"
   ]
  },
  {
   "cell_type": "markdown",
   "id": "5834786c-ca20-450b-8ea1-aa2923c05c0f",
   "metadata": {},
   "source": [
    "$$ x = \\begin{pmatrix} 1 & 0 \\\\ 0 & 1 \\end{pmatrix}, y = \\begin{pmatrix} 2 & 1 \\\\ 1 & 2 \\end{pmatrix}$$\n",
    "\n",
    "$$xy = \\begin{pmatrix} (1)2 & (0)1 \\\\ (0)1 & (1)2 \\end{pmatrix} = \\begin{pmatrix} 2 & 0 \\\\ 2 & 2\\end{pmatrix}$$"
   ]
  },
  {
   "cell_type": "code",
   "execution_count": 43,
   "id": "cc8f9f41-c0f3-4e48-911d-b99370914749",
   "metadata": {},
   "outputs": [
    {
     "data": {
      "text/plain": [
       "tensor([[2, 0],\n",
       "        [0, 2]])"
      ]
     },
     "execution_count": 43,
     "metadata": {},
     "output_type": "execute_result"
    }
   ],
   "source": [
    "x = torch.tensor([[1,0], [0,1]])\n",
    "y = torch.tensor([[2,1], [1,2]])\n",
    "\n",
    "z = x * y\n",
    "z"
   ]
  },
  {
   "cell_type": "markdown",
   "id": "520d6ccf-dff8-4259-ae42-4a0a5ff54179",
   "metadata": {},
   "source": [
    "### matrix multiplication with tensor"
   ]
  },
  {
   "cell_type": "markdown",
   "id": "69480380-6f3c-424c-a485-dfc64dc259c7",
   "metadata": {},
   "source": [
    "$$ A = \\begin{pmatrix} 0 & 1 & 1 \\\\ 1 & 0 & 1 \\end{pmatrix}, B = \\begin{pmatrix} 1 & 1 \\\\ 1 & 1 \\\\ -1 & 1 \\end{pmatrix}$$\n",
    "\n",
    "$$ C = \\begin{pmatrix} 0 & 2 \\\\ 0 & 2 \\end{pmatrix}$$\n",
    "\n",
    "\n",
    "We need to make sure that the number of rows of A are the same of the name of the column of B\n",
    "\n",
    "Conventionally, we use the transpose but with pytorch it is by default <bf>torch.mm<bf>"
   ]
  },
  {
   "cell_type": "code",
   "execution_count": 44,
   "id": "6943b13a-d88d-4c4d-babc-d05ebcb5029f",
   "metadata": {},
   "outputs": [
    {
     "data": {
      "text/plain": [
       "tensor([[0, 2],\n",
       "        [0, 2]])"
      ]
     },
     "execution_count": 44,
     "metadata": {},
     "output_type": "execute_result"
    }
   ],
   "source": [
    "A = torch.tensor([[0,1,1], [1,0,1]])\n",
    "B = torch.tensor([[1,1], [1,1], [-1,1]])\n",
    "\n",
    "C = torch.mm(A,B)\n",
    "C"
   ]
  },
  {
   "cell_type": "code",
   "execution_count": null,
   "id": "ff2f2ff9-9875-4761-a3da-26dc075c0ab0",
   "metadata": {},
   "outputs": [],
   "source": []
  },
  {
   "cell_type": "code",
   "execution_count": null,
   "id": "8bd241ee-d7b2-4359-b816-ddb157885649",
   "metadata": {},
   "outputs": [],
   "source": []
  },
  {
   "cell_type": "code",
   "execution_count": null,
   "id": "650fec9e-f7fd-4d40-b5d0-b73116550bc4",
   "metadata": {},
   "outputs": [],
   "source": []
  },
  {
   "cell_type": "code",
   "execution_count": null,
   "id": "3265cfc6-b06d-4284-9028-f25987613662",
   "metadata": {},
   "outputs": [],
   "source": []
  },
  {
   "cell_type": "markdown",
   "id": "8b2153c7-cc11-40c6-a4f2-24d2cfabff7e",
   "metadata": {},
   "source": [
    "# Differentiation"
   ]
  },
  {
   "cell_type": "markdown",
   "id": "91ff801d-360a-4480-aec4-4de47e3dd602",
   "metadata": {},
   "source": [
    "## Derivatives"
   ]
  },
  {
   "cell_type": "markdown",
   "id": "93c3223b-b3fb-4aac-a9a1-18c4b5bc6545",
   "metadata": {},
   "source": [
    "Steps for derivation according to torch\n",
    "$$y(x) = x^2$$\n",
    "$$y(x = 2) = 2^2$$\n",
    "$$\\frac{dy(x = 2)}{dx} = 2x$$\n",
    "$$\\frac{dy(2)}{dx} = 2(2)$$\n"
   ]
  },
  {
   "cell_type": "code",
   "execution_count": 45,
   "id": "3f150852-dd90-44d0-9e10-be337ffbdd1c",
   "metadata": {},
   "outputs": [
    {
     "data": {
      "text/plain": [
       "tensor(4.)"
      ]
     },
     "execution_count": 45,
     "metadata": {},
     "output_type": "execute_result"
    }
   ],
   "source": [
    "x = torch.tensor(2, requires_grad=True, dtype=torch.float)\n",
    "y = x**2\n",
    "y.backward()\n",
    "x.grad"
   ]
  },
  {
   "attachments": {},
   "cell_type": "markdown",
   "id": "ab669e57-efc9-4321-910f-a7aeb57658f6",
   "metadata": {},
   "source": [
    "Pytorch create the dderivatition in a backward graph, where\n",
    "- Tensor and backwards functions are the nodes\n",
    "- \n",
    "if the leaf  attribute for a tensor is set to True, pytorch won't evaluate its derivative\n",
    "\n",
    "tensor attributes: \n",
    "- Data: The actual value or data stored in the tensor.\n",
    "- grad_fn = holds a reference of the function that created the tensro, used for automatic differentiation\n",
    "- grad: stores the gradient of the tensor w.r.t sine scalar value, computed during backpropagation\n",
    "- is_leaf: a boolean indicating whether the tensor is a leaf node.\n",
    "- requires_grad: A boolean that specifies whether the tensor requires gradien computaion "
   ]
  },
  {
   "cell_type": "markdown",
   "id": "1d4d3815-2d02-49f2-9250-9c8cad362026",
   "metadata": {},
   "source": [
    "Steps for derivation according to torch\n",
    "\n",
    "$$z(x) = x^2 + 2x +1 $$\n",
    "$$z(x = 2) = 2^2 + 2(2) + 1$$\n",
    "$$\\frac{dz(x = 2)}{dx} = 2x+2$$\n",
    "$$\\frac{dz(2)}{dx} = 2(2) +2$$\n"
   ]
  },
  {
   "cell_type": "code",
   "execution_count": 46,
   "id": "d8d5469f-932b-4146-8f84-7ed1050356a6",
   "metadata": {},
   "outputs": [
    {
     "data": {
      "text/plain": [
       "tensor(6.)"
      ]
     },
     "execution_count": 46,
     "metadata": {},
     "output_type": "execute_result"
    }
   ],
   "source": [
    "x = torch.tensor(2., requires_grad=True)\n",
    "z = x**2+2*x+1\n",
    "z.backward()\n",
    "x.grad"
   ]
  },
  {
   "cell_type": "markdown",
   "id": "03a2aa88-d22f-46c3-95ba-9e01d5108ce0",
   "metadata": {},
   "source": [
    "## Partial derivatives"
   ]
  },
  {
   "cell_type": "markdown",
   "id": "fb4931fe-a4eb-4443-b800-e6e05d50c94d",
   "metadata": {},
   "source": [
    "Steps for partial derivatives according to torch\n",
    "\n",
    "$$f(u,v) = uv + u^2 $$\n",
    "$$\\frac{\\partial f(u,v)}{\\partial u} = v +2u$$\n",
    "$$\\frac{\\partial f(u,v)}{\\partial v} = u$$\n"
   ]
  },
  {
   "cell_type": "code",
   "execution_count": 47,
   "id": "2d51ba6d-d37c-45de-a249-f8e2a04c3a9c",
   "metadata": {},
   "outputs": [
    {
     "data": {
      "text/plain": [
       "tensor(1.)"
      ]
     },
     "execution_count": 47,
     "metadata": {},
     "output_type": "execute_result"
    }
   ],
   "source": [
    "u = torch.tensor(1., requires_grad=True)\n",
    "v = torch.tensor(2., requires_grad=True)\n",
    "f = u*v+u**2\n",
    "f.backward()\n",
    "v.grad"
   ]
  },
  {
   "cell_type": "code",
   "execution_count": null,
   "id": "9d6a0ecd-0d0a-4eeb-ac5a-7b693a11245f",
   "metadata": {},
   "outputs": [],
   "source": []
  },
  {
   "cell_type": "code",
   "execution_count": null,
   "id": "61fdec6c-4128-4bca-9af0-a58200298529",
   "metadata": {},
   "outputs": [],
   "source": []
  },
  {
   "cell_type": "code",
   "execution_count": null,
   "id": "b07af5e1-abbf-4c8e-817a-2d198d22417c",
   "metadata": {},
   "outputs": [],
   "source": []
  },
  {
   "cell_type": "markdown",
   "id": "bc92741d-a5ec-487b-887a-aab5a7f6860c",
   "metadata": {},
   "source": [
    "# Make a dataset"
   ]
  },
  {
   "cell_type": "code",
   "execution_count": 48,
   "id": "0bb37d8d-9acc-4c28-bb19-1fe6ff5539f1",
   "metadata": {},
   "outputs": [],
   "source": [
    "from torch.utils.data import Dataset\n",
    "\n",
    "# the dataset object behavies as a list/tuple \n",
    "class toy_set(Dataset):\n",
    "    def __init__(self, length=100,transform=None):\n",
    "        self.x = 2*torch.ones(length,2) # features: add tensors (100 samples)\n",
    "        self.y = torch.ones(length,1) # targets: add tensors (100 samples)\n",
    "        self.len = length # number of sumples as a len\n",
    "        self.transform = transform\n",
    "\n",
    "    def __getitem__(self, index): # get item with square brackets [] it acts as a proxy to get item\n",
    "        sample = self.x[index], self.y[index] # return the samples indexes corresponding to x and y\n",
    "        # and assign them to the variable sample []\n",
    "        \n",
    "        if self.transform: # normalize or standarize the data\n",
    "            sample = self.transform(sample)\n",
    "\n",
    "        return sample\n",
    "\n",
    "    def __len__(self): # if we call len the function gonna call the atribute length(# samples in our dataset)\n",
    "        return self.len\n",
    "\n"
   ]
  },
  {
   "cell_type": "code",
   "execution_count": 49,
   "id": "2829a3d4-d4f0-49a5-b486-e6a21924019b",
   "metadata": {},
   "outputs": [
    {
     "data": {
      "text/plain": [
       "(tensor([2., 2.]), tensor([1.]))"
      ]
     },
     "execution_count": 49,
     "metadata": {},
     "output_type": "execute_result"
    }
   ],
   "source": [
    "dataset = toy_set()\n",
    "dataset[0]"
   ]
  },
  {
   "cell_type": "code",
   "execution_count": 50,
   "id": "4e6b14a9-e95b-441b-9b9e-d66c04bf42c4",
   "metadata": {},
   "outputs": [],
   "source": [
    "# transform class\n",
    "class add_mult(object):\n",
    "    def __init__(self, addx=1, muly=1):\n",
    "        self.addx = addx\n",
    "        self.muly = muly\n",
    "\n",
    "    def __call__(self, sample):\n",
    "        x = sample[0]\n",
    "        y = sample[0]\n",
    "        x = x + self.addx\n",
    "        y = y*self.muly\n",
    "        sample = x,y\n",
    "        return sample"
   ]
  },
  {
   "cell_type": "code",
   "execution_count": 51,
   "id": "5b659e3a-e4d0-4405-ae1d-e463de9474a4",
   "metadata": {},
   "outputs": [
    {
     "data": {
      "text/plain": [
       "tensor([3., 3.])"
      ]
     },
     "execution_count": 51,
     "metadata": {},
     "output_type": "execute_result"
    }
   ],
   "source": [
    "dataset = toy_set()\n",
    "a_m = add_mult()\n",
    "x_,y_ = a_m(dataset[0])\n",
    "x_"
   ]
  },
  {
   "cell_type": "code",
   "execution_count": 52,
   "id": "6d51eb25-ed83-48f6-b65e-374d023acc64",
   "metadata": {},
   "outputs": [
    {
     "data": {
      "text/plain": [
       "(tensor([3., 3.]), tensor([2., 2.]))"
      ]
     },
     "execution_count": 52,
     "metadata": {},
     "output_type": "execute_result"
    }
   ],
   "source": [
    "dataset_ = toy_set(transform=a_m)\n",
    "dataset_[0]"
   ]
  },
  {
   "cell_type": "code",
   "execution_count": 53,
   "id": "0aab463e-fe5d-496b-99db-b37dbb41f883",
   "metadata": {},
   "outputs": [],
   "source": [
    "# couple transform\n",
    "\n",
    "class mult(object):\n",
    "    def __init__(self, mul=100):\n",
    "        self.mul = mul\n",
    "\n",
    "    def __call__(self, sample):\n",
    "        x = sample[0]\n",
    "        y = sample[1]\n",
    "        x = x * self.mul\n",
    "        y = y * self.mul\n",
    "        sample = x,y\n",
    "        return sample"
   ]
  },
  {
   "cell_type": "code",
   "execution_count": 54,
   "id": "76e91591-9e72-4d84-960e-444d77483b89",
   "metadata": {},
   "outputs": [
    {
     "data": {
      "text/plain": [
       "(tensor([300., 300.]), tensor([200., 200.]))"
      ]
     },
     "execution_count": 54,
     "metadata": {},
     "output_type": "execute_result"
    }
   ],
   "source": [
    "from torchvision import transforms\n",
    "\n",
    "data_transform = transforms.Compose([add_mult(), mult()])\n",
    "\n",
    "data_set_tr = toy_set(transform = data_transform)\n",
    "data_set_tr[0]"
   ]
  },
  {
   "cell_type": "code",
   "execution_count": 55,
   "id": "bbb2fc1c-2aec-4499-af82-0d0b2a39f030",
   "metadata": {},
   "outputs": [
    {
     "data": {
      "text/plain": [
       "tensor([1, 2, 3, 4, 6], dtype=torch.int32)"
      ]
     },
     "execution_count": 55,
     "metadata": {},
     "output_type": "execute_result"
    }
   ],
   "source": [
    "bb"
   ]
  },
  {
   "cell_type": "code",
   "execution_count": null,
   "id": "f928c6e9-bd5b-4a28-9c6a-ca4c7cbe9fe5",
   "metadata": {},
   "outputs": [],
   "source": []
  },
  {
   "cell_type": "code",
   "execution_count": null,
   "id": "1e900a5d-e5b7-4bc2-80eb-855287663389",
   "metadata": {},
   "outputs": [],
   "source": []
  },
  {
   "cell_type": "markdown",
   "id": "5470163b-33b5-4532-a171-4177de4e184f",
   "metadata": {},
   "source": [
    "# Dataset for images"
   ]
  },
  {
   "cell_type": "code",
   "execution_count": 56,
   "id": "b260d1e6-7867-4d9f-a413-6207db69940a",
   "metadata": {},
   "outputs": [],
   "source": [
    "from PIL import Image\n",
    "import pandas as pd\n",
    "import os\n",
    "from matplotlib.pyplot import imshow\n",
    "from torch.utils.data import Dataset, DataLoader"
   ]
  },
  {
   "cell_type": "code",
   "execution_count": null,
   "id": "20bf5362-63bd-4d4d-af33-82cf0694874d",
   "metadata": {},
   "outputs": [],
   "source": [
    "\n"
   ]
  },
  {
   "cell_type": "markdown",
   "id": "0556b515-dac0-4c4d-a8e6-623f12f57c53",
   "metadata": {},
   "source": [
    "# Linear Regression Prediction"
   ]
  },
  {
   "cell_type": "markdown",
   "id": "ca5aa6aa-87f3-4cf5-86ee-0fa5819b4fa2",
   "metadata": {},
   "source": [
    "nn is costume modules"
   ]
  },
  {
   "cell_type": "code",
   "execution_count": 57,
   "id": "95cfe54a-b614-44e0-a522-6e2ed169f9c6",
   "metadata": {},
   "outputs": [
    {
     "data": {
      "text/plain": [
       "tensor([1.], grad_fn=<AddBackward0>)"
      ]
     },
     "execution_count": 57,
     "metadata": {},
     "output_type": "execute_result"
    }
   ],
   "source": [
    "import torch \n",
    "\n",
    "w = torch.tensor(2.0, requires_grad=True)\n",
    "b = torch.tensor(-1.0, requires_grad=True)\n",
    "\n",
    "def forward(x): # this gonna make the decision\n",
    "    y = w * x + b\n",
    "    return y\n",
    "\n",
    "x = torch.tensor([1.0]) # feature\n",
    "yhat = forward(x) # output without comaprin with the original result\n",
    "yhat"
   ]
  },
  {
   "cell_type": "markdown",
   "id": "0860ed74-9fe4-409c-a4cf-3d8898fff088",
   "metadata": {},
   "source": [
    "$$ x = \\begin{pmatrix} 1 \\\\ 2 \\end{pmatrix} $$\n",
    "$$ \\hat{y} = -1 + 2x $$\n",
    "\n",
    "$$ \\hat{y} = \\begin{pmatrix} -1 \\\\ -1 \\end{pmatrix} + 2 \\begin{pmatrix} 1 \\\\ 2 \\end{pmatrix} $$\n",
    "$$ \\hat{y} = \\begin{pmatrix} -1 \\\\ -1 \\end{pmatrix} + \\begin{pmatrix} 2*1 \\\\ 2*2 \\end{pmatrix} $$\n",
    "$$ \\hat{y} = \\begin{pmatrix} -1 + 2 \\\\ -1 + 4 \\end{pmatrix} $$"
   ]
  },
  {
   "cell_type": "code",
   "execution_count": 64,
   "id": "e9ee78ef-17b2-47f6-9406-f276343bc7dd",
   "metadata": {},
   "outputs": [
    {
     "data": {
      "text/plain": [
       "tensor([[1.],\n",
       "        [3.]], grad_fn=<AddBackward0>)"
      ]
     },
     "execution_count": 64,
     "metadata": {},
     "output_type": "execute_result"
    }
   ],
   "source": [
    "x = torch.tensor([[1.0], [2.0]]) # each row represent one sample\n",
    "yhat = forward(x)\n",
    "yhat"
   ]
  },
  {
   "cell_type": "markdown",
   "id": "1974d499-32bc-44e3-ae7b-dd8504cf0584",
   "metadata": {},
   "source": [
    "linear to produce and object"
   ]
  },
  {
   "cell_type": "code",
   "execution_count": 66,
   "id": "7e04009a-4903-407c-9e69-dede5a2bba8a",
   "metadata": {},
   "outputs": [
    {
     "name": "stdout",
     "output_type": "stream",
     "text": [
      "[Parameter containing:\n",
      "tensor([[0.5153]], requires_grad=True), Parameter containing:\n",
      "tensor([-0.4414], requires_grad=True)]\n"
     ]
    },
    {
     "data": {
      "text/plain": [
       "tensor([[-0.4414]], grad_fn=<AddmmBackward0>)"
      ]
     },
     "execution_count": 66,
     "metadata": {},
     "output_type": "execute_result"
    }
   ],
   "source": [
    "from torch.nn import Linear\n",
    "\n",
    "torch.manual_seed(1) # random value which dont gonna change any time\n",
    "model  = Linear(in_features=1, out_features=1) # (in_feature = size of each input sample or number of columns)\n",
    "# , (out_feature = size of each output sample ) essentially creates a linear model \n",
    "print(list(model.parameters()))\n",
    "x = torch.tensor([[0.0]])\n",
    "y = model(x)\n",
    "y"
   ]
  },
  {
   "cell_type": "markdown",
   "id": "76780728-b7a6-46f6-b5a1-7c8a6bb19f58",
   "metadata": {},
   "source": [
    "## Custom modules"
   ]
  },
  {
   "cell_type": "markdown",
   "id": "c69a4f36-236d-4902-9592-708ef82d48b4",
   "metadata": {},
   "source": [
    "wrap multiples objects toi make more complex modules \n",
    "\n",
    "custom modules are classes"
   ]
  },
  {
   "cell_type": "code",
   "execution_count": 67,
   "id": "97499d1b-cd1a-4cf2-b02c-ffb55981c921",
   "metadata": {},
   "outputs": [],
   "source": [
    "import torch.nn as nn \n",
    "\n",
    "class LR(nn.Module):\n",
    "    def __init__(self, in_size, output_size):\n",
    "        super(LR, self).__init__()\n",
    "        self.linear = nn.Linear(in_size, output_size)\n",
    "\n",
    "    def forward(self, x):\n",
    "        out = self.linear(x)\n",
    "        return out"
   ]
  },
  {
   "cell_type": "code",
   "execution_count": 71,
   "id": "87a8b20a-d762-4731-a543-b78df00c8a71",
   "metadata": {},
   "outputs": [
    {
     "name": "stdout",
     "output_type": "stream",
     "text": [
      "[Parameter containing:\n",
      "tensor([[0.5153]], requires_grad=True), Parameter containing:\n",
      "tensor([-0.4414], requires_grad=True)]\n"
     ]
    }
   ],
   "source": [
    "model = LR(1,1)\n",
    "model.state_dict()['linear.weight'].data[0] = torch.tensor([0.5153])\n",
    "model.state_dict()['linear.bias'].data[0] = torch.tensor([-0.4414])\n",
    "\n",
    "print(list(model.parameters()))"
   ]
  },
  {
   "cell_type": "code",
   "execution_count": 73,
   "id": "f717f393-a3ce-4ad5-9825-609ad8ec5761",
   "metadata": {},
   "outputs": [
    {
     "data": {
      "text/plain": [
       "tensor([0.0739], grad_fn=<ViewBackward0>)"
      ]
     },
     "execution_count": 73,
     "metadata": {},
     "output_type": "execute_result"
    }
   ],
   "source": [
    "x = torch.tensor([1.0])\n",
    "\n",
    "y_hat = model(x)\n",
    "y_hat"
   ]
  },
  {
   "cell_type": "markdown",
   "id": "d5933207-c108-409e-ae1d-6db6c69aa385",
   "metadata": {},
   "source": [
    "# Linear regression Pytorch"
   ]
  },
  {
   "cell_type": "code",
   "execution_count": 81,
   "id": "e0d1d1f3-a40a-4c91-aade-ec66178260bb",
   "metadata": {},
   "outputs": [
    {
     "data": {
      "image/png": "[encoded data removed]",
      "text/plain": [
       "<Figure size 640x480 with 1 Axes>"
      ]
     },
     "metadata": {},
     "output_type": "display_data"
    }
   ],
   "source": [
    "import torch\n",
    "\n",
    "w = torch.tensor(-10.0, requires_grad=True)\n",
    "\n",
    "X = torch.arange(-3,3,0.1).view(-1,1) # view add a new aditional= dimension\n",
    "f = -3*X\n",
    "y = model(X)\n",
    "\n",
    "import matplotlib.pyplot as plt\n",
    "\n",
    "plt.plot(X.numpy(), f.numpy())\n",
    "plt.show()"
   ]
  },
  {
   "cell_type": "code",
   "execution_count": 83,
   "id": "8d369a77-be71-49e0-835b-a4f56056a834",
   "metadata": {},
   "outputs": [],
   "source": [
    "def forward(x):\n",
    "    return w*x\n",
    "\n",
    "def criterion(yhat, y):\n",
    "    return torch.mean((yhat-y)**2)"
   ]
  },
  {
   "cell_type": "code",
   "execution_count": 85,
   "id": "d6d24bee-5220-4231-bd2e-0441a6f8e816",
   "metadata": {
    "scrolled": true
   },
   "outputs": [
    {
     "ename": "RuntimeError",
     "evalue": "Trying to backward through the graph a second time (or directly access saved tensors after they have already been freed). Saved intermediate values of the graph are freed when you call .backward() or autograd.grad(). Specify retain_graph=True if you need to backward through the graph a second time or if you need to access saved tensors after calling backward.",
     "output_type": "error",
     "traceback": [
      "\u001b[0;31m---------------------------------------------------------------------------\u001b[0m",
      "\u001b[0;31mRuntimeError\u001b[0m                              Traceback (most recent call last)",
      "Cell \u001b[0;32mIn[85], line 6\u001b[0m\n\u001b[1;32m      4\u001b[0m Yhat \u001b[38;5;241m=\u001b[39m forward(X)\n\u001b[1;32m      5\u001b[0m loss \u001b[38;5;241m=\u001b[39m criterion(Yhat, y)\n\u001b[0;32m----> 6\u001b[0m \u001b[43mloss\u001b[49m\u001b[38;5;241;43m.\u001b[39;49m\u001b[43mbackward\u001b[49m\u001b[43m(\u001b[49m\u001b[43m)\u001b[49m \u001b[38;5;66;03m# calculates the derivative wrt all the variables in the loss function\u001b[39;00m\n\u001b[1;32m      7\u001b[0m w\u001b[38;5;241m.\u001b[39mgrad \u001b[38;5;241m=\u001b[39m w\u001b[38;5;241m.\u001b[39mdata\u001b[38;5;241m-\u001b[39mlr\u001b[38;5;241m*\u001b[39mw\u001b[38;5;241m.\u001b[39mgrad\u001b[38;5;241m.\u001b[39mdata \u001b[38;5;66;03m# gets the derivative at the point \u001b[39;00m\n\u001b[1;32m      8\u001b[0m w\u001b[38;5;241m.\u001b[39mgrad\u001b[38;5;241m.\u001b[39mdata\u001b[38;5;241m.\u001b[39mzero_()\n",
      "File \u001b[0;32m/opt/anaconda/envs/1.0/lib/python3.9/site-packages/torch/_tensor.py:648\u001b[0m, in \u001b[0;36mTensor.backward\u001b[0;34m(self, gradient, retain_graph, create_graph, inputs)\u001b[0m\n\u001b[1;32m    638\u001b[0m \u001b[38;5;28;01mif\u001b[39;00m has_torch_function_unary(\u001b[38;5;28mself\u001b[39m):\n\u001b[1;32m    639\u001b[0m     \u001b[38;5;28;01mreturn\u001b[39;00m handle_torch_function(\n\u001b[1;32m    640\u001b[0m         Tensor\u001b[38;5;241m.\u001b[39mbackward,\n\u001b[1;32m    641\u001b[0m         (\u001b[38;5;28mself\u001b[39m,),\n\u001b[0;32m   (...)\u001b[0m\n\u001b[1;32m    646\u001b[0m         inputs\u001b[38;5;241m=\u001b[39minputs,\n\u001b[1;32m    647\u001b[0m     )\n\u001b[0;32m--> 648\u001b[0m \u001b[43mtorch\u001b[49m\u001b[38;5;241;43m.\u001b[39;49m\u001b[43mautograd\u001b[49m\u001b[38;5;241;43m.\u001b[39;49m\u001b[43mbackward\u001b[49m\u001b[43m(\u001b[49m\n\u001b[1;32m    649\u001b[0m \u001b[43m    \u001b[49m\u001b[38;5;28;43mself\u001b[39;49m\u001b[43m,\u001b[49m\u001b[43m \u001b[49m\u001b[43mgradient\u001b[49m\u001b[43m,\u001b[49m\u001b[43m \u001b[49m\u001b[43mretain_graph\u001b[49m\u001b[43m,\u001b[49m\u001b[43m \u001b[49m\u001b[43mcreate_graph\u001b[49m\u001b[43m,\u001b[49m\u001b[43m \u001b[49m\u001b[43minputs\u001b[49m\u001b[38;5;241;43m=\u001b[39;49m\u001b[43minputs\u001b[49m\n\u001b[1;32m    650\u001b[0m \u001b[43m\u001b[49m\u001b[43m)\u001b[49m\n",
      "File \u001b[0;32m/opt/anaconda/envs/1.0/lib/python3.9/site-packages/torch/autograd/__init__.py:353\u001b[0m, in \u001b[0;36mbackward\u001b[0;34m(tensors, grad_tensors, retain_graph, create_graph, grad_variables, inputs)\u001b[0m\n\u001b[1;32m    348\u001b[0m     retain_graph \u001b[38;5;241m=\u001b[39m create_graph\n\u001b[1;32m    350\u001b[0m \u001b[38;5;66;03m# The reason we repeat the same comment below is that\u001b[39;00m\n\u001b[1;32m    351\u001b[0m \u001b[38;5;66;03m# some Python versions print out the first line of a multi-line function\u001b[39;00m\n\u001b[1;32m    352\u001b[0m \u001b[38;5;66;03m# calls in the traceback and some print out the last line\u001b[39;00m\n\u001b[0;32m--> 353\u001b[0m \u001b[43m_engine_run_backward\u001b[49m\u001b[43m(\u001b[49m\n\u001b[1;32m    354\u001b[0m \u001b[43m    \u001b[49m\u001b[43mtensors\u001b[49m\u001b[43m,\u001b[49m\n\u001b[1;32m    355\u001b[0m \u001b[43m    \u001b[49m\u001b[43mgrad_tensors_\u001b[49m\u001b[43m,\u001b[49m\n\u001b[1;32m    356\u001b[0m \u001b[43m    \u001b[49m\u001b[43mretain_graph\u001b[49m\u001b[43m,\u001b[49m\n\u001b[1;32m    357\u001b[0m \u001b[43m    \u001b[49m\u001b[43mcreate_graph\u001b[49m\u001b[43m,\u001b[49m\n\u001b[1;32m    358\u001b[0m \u001b[43m    \u001b[49m\u001b[43minputs\u001b[49m\u001b[43m,\u001b[49m\n\u001b[1;32m    359\u001b[0m \u001b[43m    \u001b[49m\u001b[43mallow_unreachable\u001b[49m\u001b[38;5;241;43m=\u001b[39;49m\u001b[38;5;28;43;01mTrue\u001b[39;49;00m\u001b[43m,\u001b[49m\n\u001b[1;32m    360\u001b[0m \u001b[43m    \u001b[49m\u001b[43maccumulate_grad\u001b[49m\u001b[38;5;241;43m=\u001b[39;49m\u001b[38;5;28;43;01mTrue\u001b[39;49;00m\u001b[43m,\u001b[49m\n\u001b[1;32m    361\u001b[0m \u001b[43m\u001b[49m\u001b[43m)\u001b[49m\n",
      "File \u001b[0;32m/opt/anaconda/envs/1.0/lib/python3.9/site-packages/torch/autograd/graph.py:824\u001b[0m, in \u001b[0;36m_engine_run_backward\u001b[0;34m(t_outputs, *args, **kwargs)\u001b[0m\n\u001b[1;32m    822\u001b[0m     unregister_hooks \u001b[38;5;241m=\u001b[39m _register_logging_hooks_on_whole_graph(t_outputs)\n\u001b[1;32m    823\u001b[0m \u001b[38;5;28;01mtry\u001b[39;00m:\n\u001b[0;32m--> 824\u001b[0m     \u001b[38;5;28;01mreturn\u001b[39;00m \u001b[43mVariable\u001b[49m\u001b[38;5;241;43m.\u001b[39;49m\u001b[43m_execution_engine\u001b[49m\u001b[38;5;241;43m.\u001b[39;49m\u001b[43mrun_backward\u001b[49m\u001b[43m(\u001b[49m\u001b[43m  \u001b[49m\u001b[38;5;66;43;03m# Calls into the C++ engine to run the backward pass\u001b[39;49;00m\n\u001b[1;32m    825\u001b[0m \u001b[43m        \u001b[49m\u001b[43mt_outputs\u001b[49m\u001b[43m,\u001b[49m\u001b[43m \u001b[49m\u001b[38;5;241;43m*\u001b[39;49m\u001b[43margs\u001b[49m\u001b[43m,\u001b[49m\u001b[43m \u001b[49m\u001b[38;5;241;43m*\u001b[39;49m\u001b[38;5;241;43m*\u001b[39;49m\u001b[43mkwargs\u001b[49m\n\u001b[1;32m    826\u001b[0m \u001b[43m    \u001b[49m\u001b[43m)\u001b[49m  \u001b[38;5;66;03m# Calls into the C++ engine to run the backward pass\u001b[39;00m\n\u001b[1;32m    827\u001b[0m \u001b[38;5;28;01mfinally\u001b[39;00m:\n\u001b[1;32m    828\u001b[0m     \u001b[38;5;28;01mif\u001b[39;00m attach_logging_hooks:\n",
      "\u001b[0;31mRuntimeError\u001b[0m: Trying to backward through the graph a second time (or directly access saved tensors after they have already been freed). Saved intermediate values of the graph are freed when you call .backward() or autograd.grad(). Specify retain_graph=True if you need to backward through the graph a second time or if you need to access saved tensors after calling backward."
     ]
    }
   ],
   "source": [
    "lr = 0.1\n",
    "cost = []\n",
    "for epoch in range(4):\n",
    "    Yhat = forward(X)\n",
    "    loss = criterion(Yhat, y)\n",
    "    loss.backward() # calculates the derivative wrt all the variables in the loss function\n",
    "    w.grad = w.data-lr*w.grad.data # gets the derivative at the point \n",
    "    w.grad.data.zero_()\n",
    "    cost.append(loss.item())"
   ]
  },
  {
   "cell_type": "code",
   "execution_count": null,
   "id": "3aeb2d97-0b96-4c78-a443-0e4965edfae7",
   "metadata": {},
   "outputs": [],
   "source": []
  },
  {
   "cell_type": "code",
   "execution_count": null,
   "id": "02cab7ad",
   "metadata": {},
   "outputs": [],
   "source": []
  },
  {
   "cell_type": "code",
   "execution_count": 3,
   "id": "db1db7c4",
   "metadata": {},
   "outputs": [
    {
     "data": {
      "text/plain": [
       "'2.7.1+cu126'"
      ]
     },
     "execution_count": 3,
     "metadata": {},
     "output_type": "execute_result"
    }
   ],
   "source": [
    "import torch\n",
    "torch.__version__"
   ]
  },
  {
   "cell_type": "code",
   "execution_count": 4,
   "id": "219bdd0e",
   "metadata": {},
   "outputs": [
    {
     "data": {
      "text/plain": [
       "tensor(7)"
      ]
     },
     "execution_count": 4,
     "metadata": {},
     "output_type": "execute_result"
    }
   ],
   "source": [
    "# Scalar\n",
    "scalar = torch.tensor(7) # torch-speak is 0 dimension\n",
    "scalar"
   ]
  },
  {
   "cell_type": "code",
   "execution_count": 5,
   "id": "5c638a67",
   "metadata": {},
   "outputs": [
    {
     "data": {
      "text/plain": [
       "0"
      ]
     },
     "execution_count": 5,
     "metadata": {},
     "output_type": "execute_result"
    }
   ],
   "source": [
    "scalar.ndim # torch-speak "
   ]
  },
  {
   "cell_type": "code",
   "execution_count": 6,
   "id": "380ad668",
   "metadata": {},
   "outputs": [
    {
     "data": {
      "text/plain": [
       "7"
      ]
     },
     "execution_count": 6,
     "metadata": {},
     "output_type": "execute_result"
    }
   ],
   "source": [
    "# turn in this tensor number into a python number\n",
    "scalar.item() # this is a python number"
   ]
  },
  {
   "cell_type": "code",
   "execution_count": 7,
   "id": "96446032",
   "metadata": {},
   "outputs": [
    {
     "data": {
      "text/plain": [
       "tensor([7, 7])"
      ]
     },
     "execution_count": 7,
     "metadata": {},
     "output_type": "execute_result"
    }
   ],
   "source": [
    "\n",
    "# Vector\n",
    "vector = torch.tensor([7, 7])\n",
    "vector"
   ]
  },
  {
   "cell_type": "code",
   "execution_count": 8,
   "id": "0a3f9fa4",
   "metadata": {},
   "outputs": [
    {
     "data": {
      "text/plain": [
       "1"
      ]
     },
     "execution_count": 8,
     "metadata": {},
     "output_type": "execute_result"
    }
   ],
   "source": [
    "# Check the number of dimensions of vector\n",
    "vector.ndim # number of brackets is the number of dimensions\n"
   ]
  },
  {
   "cell_type": "code",
   "execution_count": 9,
   "id": "73ff9f6c",
   "metadata": {},
   "outputs": [
    {
     "data": {
      "text/plain": [
       "torch.Size([2])"
      ]
     },
     "execution_count": 9,
     "metadata": {},
     "output_type": "execute_result"
    }
   ],
   "source": [
    "# Check shape of vector\n",
    "vector.shape # elements inside the vector"
   ]
  },
  {
   "cell_type": "code",
   "execution_count": 10,
   "id": "8a8d775e",
   "metadata": {},
   "outputs": [
    {
     "data": {
      "text/plain": [
       "tensor([[ 7,  8],\n",
       "        [ 9, 10]])"
      ]
     },
     "execution_count": 10,
     "metadata": {},
     "output_type": "execute_result"
    }
   ],
   "source": [
    "# Matrix\n",
    "MATRIX = torch.tensor([[7, 8],  \n",
    "                       [9, 10]])\n",
    "MATRIX"
   ]
  },
  {
   "cell_type": "code",
   "execution_count": 11,
   "id": "5e279207",
   "metadata": {},
   "outputs": [
    {
     "data": {
      "text/plain": [
       "2"
      ]
     },
     "execution_count": 11,
     "metadata": {},
     "output_type": "execute_result"
    }
   ],
   "source": [
    "MATRIX.ndim # number of brackets is the number of dimensions"
   ]
  },
  {
   "cell_type": "code",
   "execution_count": 12,
   "id": "ac5ce2e1",
   "metadata": {},
   "outputs": [
    {
     "data": {
      "text/plain": [
       "torch.Size([2, 2])"
      ]
     },
     "execution_count": 12,
     "metadata": {},
     "output_type": "execute_result"
    }
   ],
   "source": [
    "MATRIX.shape # (rows, columns) = (2, 2)"
   ]
  },
  {
   "cell_type": "code",
   "execution_count": 13,
   "id": "6a1231cc",
   "metadata": {},
   "outputs": [
    {
     "data": {
      "text/plain": [
       "tensor([[[1, 2, 3],\n",
       "         [3, 6, 9],\n",
       "         [2, 4, 5]]])"
      ]
     },
     "execution_count": 13,
     "metadata": {},
     "output_type": "execute_result"
    }
   ],
   "source": [
    "# Tensor\n",
    "TENSOR = torch.tensor([[[1, 2, 3],\n",
    "                        [3, 6, 9],\n",
    "                        [2, 4, 5]]])\n",
    "TENSOR"
   ]
  },
  {
   "cell_type": "code",
   "execution_count": 14,
   "id": "7dfd8133",
   "metadata": {},
   "outputs": [
    {
     "data": {
      "text/plain": [
       "3"
      ]
     },
     "execution_count": 14,
     "metadata": {},
     "output_type": "execute_result"
    }
   ],
   "source": [
    "TENSOR.ndim # number of brackets is the number of dimensions"
   ]
  },
  {
   "cell_type": "code",
   "execution_count": 15,
   "id": "c309e5e5",
   "metadata": {},
   "outputs": [
    {
     "data": {
      "text/plain": [
       "torch.Size([1, 3, 3])"
      ]
     },
     "execution_count": 15,
     "metadata": {},
     "output_type": "execute_result"
    }
   ],
   "source": [
    "# Check shape of TENSOR\n",
    "TENSOR.shape # (number of matrices, rows, columns) = (1, 3, 3)\n",
    "# the first number 1, is the latter bracket which contiains only one other other matrix\n",
    "# the second number 3, is second latter bracket which contains vectors \n",
    "# the third number 3, is the last latter bracket which contains the elements of the vector"
   ]
  },
  {
   "cell_type": "code",
   "execution_count": 16,
   "id": "1276dfdd",
   "metadata": {},
   "outputs": [
    {
     "data": {
      "text/plain": [
       "(tensor([[0.4888, 0.3670, 0.6926, 0.3703],\n",
       "         [0.1939, 0.5620, 0.2667, 0.7925],\n",
       "         [0.3348, 0.8587, 0.5187, 0.1724]]),\n",
       " torch.float32)"
      ]
     },
     "execution_count": 16,
     "metadata": {},
     "output_type": "execute_result"
    }
   ],
   "source": [
    "# Create a random tensor of size (3, 4)\n",
    "random_tensor = torch.rand(size=(3, 4)) # (columns, rows)\n",
    "random_tensor, random_tensor.dtype"
   ]
  },
  {
   "cell_type": "code",
   "execution_count": 17,
   "id": "483a189f",
   "metadata": {},
   "outputs": [
    {
     "data": {
      "text/plain": [
       "(torch.Size([3]), torch.float32, device(type='cpu'))"
      ]
     },
     "execution_count": 17,
     "metadata": {},
     "output_type": "execute_result"
    }
   ],
   "source": [
    "# Default datatype for tensors is float32\n",
    "float_32_tensor = torch.tensor([3.0, 6.0, 9.0],\n",
    "                               dtype=None, # defaults to None, which is torch.float32 or whatever datatype is passed\n",
    "                               device=None, # defaults to None, which uses the default tensor type\n",
    "                               requires_grad=False) # if True, operations performed on the tensor are recorded \n",
    "\n",
    "float_32_tensor.shape, float_32_tensor.dtype, float_32_tensor.device"
   ]
  },
  {
   "cell_type": "code",
   "execution_count": 18,
   "id": "78defc20",
   "metadata": {},
   "outputs": [
    {
     "data": {
      "text/plain": [
       "torch.float16"
      ]
     },
     "execution_count": 18,
     "metadata": {},
     "output_type": "execute_result"
    }
   ],
   "source": [
    "float_16_tensor = torch.tensor([3.0, 6.0, 9.0],\n",
    "                               dtype=torch.float16) # torch.half would also work\n",
    "\n",
    "float_16_tensor.dtype"
   ]
  },
  {
   "cell_type": "code",
   "execution_count": 19,
   "id": "6f266389",
   "metadata": {},
   "outputs": [
    {
     "name": "stdout",
     "output_type": "stream",
     "text": [
      "tensor([[0.9197, 0.4937, 0.1626, 0.5699],\n",
      "        [0.7766, 0.9744, 0.5112, 0.6556],\n",
      "        [0.9107, 0.9581, 0.1889, 0.4773]])\n",
      "Shape of tensor: torch.Size([3, 4])\n",
      "Datatype of tensor: torch.float32\n",
      "Device tensor is stored on: cpu\n"
     ]
    }
   ],
   "source": [
    "# Create a tensor\n",
    "some_tensor = torch.rand(3, 4)\n",
    "\n",
    "# Find out details about it\n",
    "print(some_tensor)\n",
    "print(f\"Shape of tensor: {some_tensor.shape}\")\n",
    "print(f\"Datatype of tensor: {some_tensor.dtype}\")\n",
    "print(f\"Device tensor is stored on: {some_tensor.device}\") # will default to CPU"
   ]
  },
  {
   "cell_type": "code",
   "execution_count": 20,
   "id": "b5097555",
   "metadata": {},
   "outputs": [
    {
     "data": {
      "text/plain": [
       "torch.Size([3])"
      ]
     },
     "execution_count": 20,
     "metadata": {},
     "output_type": "execute_result"
    }
   ],
   "source": [
    "import torch\n",
    "tensor = torch.tensor([1, 2, 3])\n",
    "tensor.shape"
   ]
  },
  {
   "cell_type": "code",
   "execution_count": 21,
   "id": "10c71161",
   "metadata": {},
   "outputs": [
    {
     "data": {
      "text/plain": [
       "tensor([1, 4, 9])"
      ]
     },
     "execution_count": 21,
     "metadata": {},
     "output_type": "execute_result"
    }
   ],
   "source": [
    "# Element-wise matrix multiplication\n",
    "tensor * tensor"
   ]
  },
  {
   "cell_type": "code",
   "execution_count": 22,
   "id": "04f96696",
   "metadata": {},
   "outputs": [
    {
     "data": {
      "text/plain": [
       "tensor(14)"
      ]
     },
     "execution_count": 22,
     "metadata": {},
     "output_type": "execute_result"
    }
   ],
   "source": [
    "# Matrix multiplication\n",
    "torch.matmul(tensor, tensor)"
   ]
  },
  {
   "cell_type": "code",
   "execution_count": 23,
   "id": "9ad728bd",
   "metadata": {},
   "outputs": [
    {
     "data": {
      "text/plain": [
       "tensor(14)"
      ]
     },
     "execution_count": 23,
     "metadata": {},
     "output_type": "execute_result"
    }
   ],
   "source": [
    "# Can also use the \"@\" symbol for matrix multiplication, though not recommended\n",
    "tensor @ tensor"
   ]
  },
  {
   "cell_type": "code",
   "execution_count": 24,
   "id": "1aa34ba1",
   "metadata": {},
   "outputs": [
    {
     "name": "stdout",
     "output_type": "stream",
     "text": [
      "CPU times: user 938 μs, sys: 0 ns, total: 938 μs\n",
      "Wall time: 566 μs\n"
     ]
    },
    {
     "data": {
      "text/plain": [
       "tensor(14)"
      ]
     },
     "execution_count": 24,
     "metadata": {},
     "output_type": "execute_result"
    }
   ],
   "source": [
    "%%time\n",
    "# Matrix multiplication by hand \n",
    "# (avoid doing operations with for loops at all cost, they are computationally expensive)\n",
    "value = 0\n",
    "for i in range(len(tensor)):\n",
    "  value += tensor[i] * tensor[i]\n",
    "value"
   ]
  },
  {
   "cell_type": "code",
   "execution_count": 25,
   "id": "a985305a",
   "metadata": {},
   "outputs": [
    {
     "name": "stdout",
     "output_type": "stream",
     "text": [
      "CPU times: user 290 μs, sys: 0 ns, total: 290 μs\n",
      "Wall time: 203 μs\n"
     ]
    },
    {
     "data": {
      "text/plain": [
       "tensor(14)"
      ]
     },
     "execution_count": 25,
     "metadata": {},
     "output_type": "execute_result"
    }
   ],
   "source": [
    "%%time\n",
    "torch.matmul(tensor, tensor)"
   ]
  },
  {
   "cell_type": "code",
   "execution_count": 26,
   "id": "4d8b1952",
   "metadata": {},
   "outputs": [
    {
     "name": "stdout",
     "output_type": "stream",
     "text": [
      "CPU times: user 289 μs, sys: 43 μs, total: 332 μs\n",
      "Wall time: 258 μs\n"
     ]
    },
    {
     "data": {
      "text/plain": [
       "tensor(14)"
      ]
     },
     "execution_count": 26,
     "metadata": {},
     "output_type": "execute_result"
    }
   ],
   "source": [
    "%%time\n",
    "tensor @ tensor"
   ]
  },
  {
   "cell_type": "code",
   "execution_count": 27,
   "id": "a26d684a",
   "metadata": {},
   "outputs": [],
   "source": [
    "# Shapes need to be in the right way  \n",
    "tensor_A = torch.tensor([[1, 2],\n",
    "                         [3, 4],\n",
    "                         [5, 6]], dtype=torch.float32)\n",
    "\n",
    "tensor_B = torch.tensor([[7, 10],\n",
    "                         [8, 11], \n",
    "                         [9, 12]], dtype=torch.float32)\n",
    "\n"
   ]
  },
  {
   "cell_type": "code",
   "execution_count": 28,
   "id": "870bdb2c",
   "metadata": {},
   "outputs": [
    {
     "name": "stdout",
     "output_type": "stream",
     "text": [
      "tensor([[1., 2.],\n",
      "        [3., 4.],\n",
      "        [5., 6.]])\n",
      "tensor([[ 7., 10.],\n",
      "        [ 8., 11.],\n",
      "        [ 9., 12.]])\n"
     ]
    }
   ],
   "source": [
    "# View tensor_A and tensor_B\n",
    "print(tensor_A)\n",
    "print(tensor_B)"
   ]
  },
  {
   "cell_type": "code",
   "execution_count": 29,
   "id": "78a3d2e8",
   "metadata": {},
   "outputs": [
    {
     "name": "stdout",
     "output_type": "stream",
     "text": [
      "tensor([[1., 2.],\n",
      "        [3., 4.],\n",
      "        [5., 6.]])\n",
      "tensor([[ 7.,  8.,  9.],\n",
      "        [10., 11., 12.]])\n"
     ]
    }
   ],
   "source": [
    "# View tensor_A and tensor_B.T\n",
    "print(tensor_A)\n",
    "print(tensor_B.T)"
   ]
  },
  {
   "cell_type": "code",
   "execution_count": 30,
   "id": "e27d7ac1",
   "metadata": {},
   "outputs": [
    {
     "name": "stdout",
     "output_type": "stream",
     "text": [
      "Original shapes: tensor_A = torch.Size([3, 2]), tensor_B = torch.Size([3, 2])\n",
      "\n",
      "New shapes: tensor_A = torch.Size([3, 2]) (same as above), tensor_B.T = torch.Size([2, 3])\n",
      "\n",
      "Multiplying: torch.Size([3, 2]) * torch.Size([2, 3]) <- inner dimensions match\n",
      "\n",
      "Output:\n",
      "\n",
      "tensor([[ 27.,  30.,  33.],\n",
      "        [ 61.,  68.,  75.],\n",
      "        [ 95., 106., 117.]])\n",
      "\n",
      "Output shape: torch.Size([3, 3])\n"
     ]
    }
   ],
   "source": [
    "# The operation works when tensor_B is transposed\n",
    "print(f\"Original shapes: tensor_A = {tensor_A.shape}, tensor_B = {tensor_B.shape}\\n\")\n",
    "print(f\"New shapes: tensor_A = {tensor_A.shape} (same as above), tensor_B.T = {tensor_B.T.shape}\\n\")\n",
    "print(f\"Multiplying: {tensor_A.shape} * {tensor_B.T.shape} <- inner dimensions match\\n\")\n",
    "print(\"Output:\\n\")\n",
    "output = torch.matmul(tensor_A, tensor_B.T)\n",
    "print(output) \n",
    "print(f\"\\nOutput shape: {output.shape}\")"
   ]
  },
  {
   "cell_type": "code",
   "execution_count": 31,
   "id": "d899ac6b",
   "metadata": {},
   "outputs": [
    {
     "data": {
      "text/plain": [
       "tensor([[ 27.,  30.,  33.],\n",
       "        [ 61.,  68.,  75.],\n",
       "        [ 95., 106., 117.]])"
      ]
     },
     "execution_count": 31,
     "metadata": {},
     "output_type": "execute_result"
    }
   ],
   "source": [
    "# torch.mm is a shortcut for matmul\n",
    "torch.mm(tensor_A, tensor_B.T)"
   ]
  },
  {
   "cell_type": "code",
   "execution_count": 32,
   "id": "c0a3a81e",
   "metadata": {},
   "outputs": [
    {
     "data": {
      "text/plain": [
       "torch.Size([3, 2])"
      ]
     },
     "execution_count": 32,
     "metadata": {},
     "output_type": "execute_result"
    }
   ],
   "source": [
    "tensor_A.size()"
   ]
  },
  {
   "cell_type": "code",
   "execution_count": 33,
   "id": "2919144b",
   "metadata": {},
   "outputs": [
    {
     "data": {
      "text/plain": [
       "(tensor([1., 2., 3., 4., 5., 6., 7.]), torch.Size([7]))"
      ]
     },
     "execution_count": 33,
     "metadata": {},
     "output_type": "execute_result"
    }
   ],
   "source": [
    "# Create a tensor\n",
    "import torch\n",
    "x = torch.arange(1., 8.)\n",
    "x, x.shape"
   ]
  },
  {
   "cell_type": "code",
   "execution_count": 58,
   "id": "93d0ad93",
   "metadata": {},
   "outputs": [
    {
     "data": {
      "text/plain": [
       "(tensor([[[5., 5., 5., 5., 5., 5., 5.]]]), torch.Size([1, 1, 7]))"
      ]
     },
     "execution_count": 58,
     "metadata": {},
     "output_type": "execute_result"
    }
   ],
   "source": [
    "# Add an extra dimension\n",
    "x_reshaped = x.reshape(1,1, 7) # (1 row,1,1,7 columns)\n",
    "x_reshaped, x_reshaped.shape"
   ]
  },
  {
   "cell_type": "code",
   "execution_count": 51,
   "id": "f2e2b9de",
   "metadata": {},
   "outputs": [
    {
     "data": {
      "text/plain": [
       "(tensor([[[1., 2., 3., 4., 5., 6., 7.]]]), torch.Size([1, 1, 7]))"
      ]
     },
     "execution_count": 51,
     "metadata": {},
     "output_type": "execute_result"
    }
   ],
   "source": [
    "# Change view (keeps same data as original but changes view)\n",
    "# See more: https://stackoverflow.com/a/54507446/7900723\n",
    "z = x.view(1,1, 7) # (1 row, 1, 1, 7 columns)\n",
    "z, z.shape"
   ]
  },
  {
   "cell_type": "code",
   "execution_count": 52,
   "id": "47e2520c",
   "metadata": {},
   "outputs": [
    {
     "data": {
      "text/plain": [
       "(tensor([[[5., 5., 5., 5., 5., 5., 5.]]]),\n",
       " tensor([5., 5., 5., 5., 5., 5., 5.]))"
      ]
     },
     "execution_count": 52,
     "metadata": {},
     "output_type": "execute_result"
    }
   ],
   "source": [
    "# Changing z changes x\n",
    "z[:, 0] = 5\n",
    "z, x"
   ]
  },
  {
   "cell_type": "code",
   "execution_count": null,
   "id": "ce6cda7a",
   "metadata": {},
   "outputs": [
    {
     "data": {
      "text/plain": [
       "tensor([[5., 5., 5., 5.],\n",
       "        [5., 5., 5., 5.],\n",
       "        [5., 5., 5., 5.],\n",
       "        [5., 5., 5., 5.],\n",
       "        [5., 5., 5., 5.],\n",
       "        [5., 5., 5., 5.],\n",
       "        [5., 5., 5., 5.]])"
      ]
     },
     "execution_count": 56,
     "metadata": {},
     "output_type": "execute_result"
    }
   ],
   "source": [
    "# Stack tensors on top of each other\n",
    "x_stacked = torch.stack([x, x, x, x], dim=1) # dim=0 stacks along the first dimension (rows), dim=1 stacks along the second dimension (columns)\n",
    "# (rows, columns) = (7, 4)\n",
    "x_stacked"
   ]
  },
  {
   "cell_type": "code",
   "execution_count": 59,
   "id": "ee5d559e",
   "metadata": {},
   "outputs": [
    {
     "name": "stdout",
     "output_type": "stream",
     "text": [
      "Previous tensor: tensor([[[5., 5., 5., 5., 5., 5., 5.]]])\n",
      "Previous shape: torch.Size([1, 1, 7])\n",
      "\n",
      "New tensor: tensor([5., 5., 5., 5., 5., 5., 5.])\n",
      "New shape: torch.Size([7])\n"
     ]
    }
   ],
   "source": [
    "print(f\"Previous tensor: {x_reshaped}\")\n",
    "print(f\"Previous shape: {x_reshaped.shape}\")\n",
    "\n",
    "# Remove extra dimension from x_reshaped\n",
    "x_squeezed = x_reshaped.squeeze()\n",
    "print(f\"\\nNew tensor: {x_squeezed}\")\n",
    "print(f\"New shape: {x_squeezed.shape}\")"
   ]
  },
  {
   "cell_type": "code",
   "execution_count": null,
   "id": "f2d2283d",
   "metadata": {},
   "outputs": [
    {
     "name": "stdout",
     "output_type": "stream",
     "text": [
      "\n",
      "Original tensor shape: torch.Size([224, 224, 3])\n",
      "Previous shape: torch.Size([224, 224, 3])\n",
      "New shape: torch.Size([3, 224, 224])\n"
     ]
    }
   ],
   "source": [
    "# Create tensor with specific shape\n",
    "x_original = torch.rand(size=(224, 224, 3))\n",
    "\n",
    "# Permute the original tensor to rearrange the axis order\n",
    "x_permuted = x_original.permute(2, 0, 1) # shifts axis 0->1, 1->2, 2->0 || (0,1,2) -> (2,0,1)\n",
    "# permute the dimensions of the tensor\n",
    "print(f\"\\nOriginal tensor shape: {x_original.shape}\")\n",
    "\n",
    "print(f\"Previous shape: {x_original.shape}\")\n",
    "print(f\"New shape: {x_permuted.shape}\")"
   ]
  },
  {
   "cell_type": "code",
   "execution_count": 62,
   "id": "e35d3e7b",
   "metadata": {},
   "outputs": [
    {
     "data": {
      "text/plain": [
       "(tensor([[[1, 2, 3],\n",
       "          [4, 5, 6],\n",
       "          [7, 8, 9]]]),\n",
       " torch.Size([1, 3, 3]))"
      ]
     },
     "execution_count": 62,
     "metadata": {},
     "output_type": "execute_result"
    }
   ],
   "source": [
    "x = torch.arange(1, 10).reshape(1, 3, 3)\n",
    "x, x.shape"
   ]
  },
  {
   "cell_type": "code",
   "execution_count": 70,
   "id": "2cc753c5",
   "metadata": {},
   "outputs": [
    {
     "name": "stdout",
     "output_type": "stream",
     "text": [
      "First square bracket:\n",
      "tensor([[1, 2, 3],\n",
      "        [4, 5, 6],\n",
      "        [7, 8, 9]])\n",
      "Second square bracket: tensor([1, 2, 3])\n",
      "Third square bracket: 3\n"
     ]
    }
   ],
   "source": [
    "# Let's index bracket by bracket\n",
    "print(f\"First square bracket:\\n{x[0]}\") \n",
    "print(f\"Second square bracket: {x[0][0]}\") \n",
    "print(f\"Third square bracket: {x[0][0][2]}\") # (matrix, row, column)"
   ]
  },
  {
   "cell_type": "code",
   "execution_count": 71,
   "id": "9fbf9bda",
   "metadata": {},
   "outputs": [
    {
     "data": {
      "text/plain": [
       "tensor([[1, 2, 3]])"
      ]
     },
     "execution_count": 71,
     "metadata": {},
     "output_type": "execute_result"
    }
   ],
   "source": [
    "# Get all values of 0th dimension and the 0 index of 1st dimension\n",
    "x[:, 0]"
   ]
  },
  {
   "cell_type": "code",
   "execution_count": 72,
   "id": "a49bc781",
   "metadata": {},
   "outputs": [
    {
     "data": {
      "text/plain": [
       "tensor([[2, 5, 8]])"
      ]
     },
     "execution_count": 72,
     "metadata": {},
     "output_type": "execute_result"
    }
   ],
   "source": [
    "# Get all values of 0th & 1st dimensions but only index 1 of 2nd dimension\n",
    "x[:, :, 1]"
   ]
  },
  {
   "cell_type": "code",
   "execution_count": 73,
   "id": "aefad4bc",
   "metadata": {},
   "outputs": [
    {
     "data": {
      "text/plain": [
       "tensor([5])"
      ]
     },
     "execution_count": 73,
     "metadata": {},
     "output_type": "execute_result"
    }
   ],
   "source": [
    "# Get all values of the 0 dimension but only the 1 index value of the 1st and 2nd dimension\n",
    "x[:, 1, 1]"
   ]
  },
  {
   "cell_type": "code",
   "execution_count": 74,
   "id": "ce56dcd1",
   "metadata": {},
   "outputs": [
    {
     "data": {
      "text/plain": [
       "tensor([1, 2, 3])"
      ]
     },
     "execution_count": 74,
     "metadata": {},
     "output_type": "execute_result"
    }
   ],
   "source": [
    "# Get index 0 of 0th and 1st dimension and all values of 2nd dimension \n",
    "x[0, 0, :] # same as x[0][0]"
   ]
  },
  {
   "cell_type": "code",
   "execution_count": null,
   "id": "08b92397",
   "metadata": {},
   "outputs": [],
   "source": []
  },
  {
   "cell_type": "code",
   "execution_count": null,
   "id": "67e16d07",
   "metadata": {},
   "outputs": [],
   "source": []
  },
  {
   "cell_type": "code",
   "execution_count": 87,
   "id": "ac2541de",
   "metadata": {},
   "outputs": [
    {
     "data": {
      "text/plain": [
       "(array([1., 2., 3., 4., 5., 6., 7.]),\n",
       " tensor([1., 2., 3., 4., 5., 6., 7.], dtype=torch.float64))"
      ]
     },
     "execution_count": 87,
     "metadata": {},
     "output_type": "execute_result"
    }
   ],
   "source": [
    "# NumPy array to tensor\n",
    "import numpy as np\n",
    "array = np.arange(1.0, 8.0)\n",
    "tensor = torch.from_numpy(array)\n",
    "array, tensor"
   ]
  },
  {
   "cell_type": "code",
   "execution_count": 88,
   "id": "bef3e787",
   "metadata": {},
   "outputs": [
    {
     "data": {
      "text/plain": [
       "(array([2., 3., 4., 5., 6., 7., 8.]),\n",
       " tensor([2., 3., 4., 5., 6., 7., 8.], dtype=torch.float64))"
      ]
     },
     "execution_count": 88,
     "metadata": {},
     "output_type": "execute_result"
    }
   ],
   "source": [
    "array += 1\n",
    "array, tensor # tensor is not changed because it is a copy of the array"
   ]
  },
  {
   "cell_type": "code",
   "execution_count": null,
   "id": "ebbe28bf",
   "metadata": {},
   "outputs": [],
   "source": []
  }
 ],
 "metadata": {
  "kernelspec": {
   "display_name": "base",
   "language": "python",
   "name": "python3"
  },
  "language_info": {
   "codemirror_mode": {
    "name": "ipython",
    "version": 3
   },
   "file_extension": ".py",
   "mimetype": "text/x-python",
   "name": "python",
   "nbconvert_exporter": "python",
   "pygments_lexer": "ipython3",
   "version": "3.12.2"
  }
 },
 "nbformat": 4,
 "nbformat_minor": 5
}
